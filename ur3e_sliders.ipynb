{
 "cells": [
  {
   "cell_type": "code",
   "execution_count": null,
   "metadata": {},
   "outputs": [],
   "source": [
    "# Import some basic libraries and functions for this tutorial.\n",
    "import numpy as np\n",
    "import os\n",
    "\n",
    "from pydrake.common import FindResourceOrThrow, temp_directory\n",
    "from pydrake.geometry import (\n",
    "    MeshcatVisualizer,\n",
    "    MeshcatVisualizerParams,\n",
    "    Role,\n",
    "    StartMeshcat,\n",
    ")\n",
    "from pydrake.math import RigidTransform, RollPitchYaw\n",
    "from pydrake.multibody.meshcat import JointSliders\n",
    "from pydrake.multibody.parsing import Parser\n",
    "from pydrake.multibody.plant import AddMultibodyPlantSceneGraph, MultibodyPlant\n",
    "from pydrake.systems.analysis import Simulator\n",
    "from pydrake.systems.framework import DiagramBuilder\n",
    "from pydrake.all import InverseDynamicsController, PiecewisePose, Rgba, LeafSystem, JacobianWrtVariable, TrajectorySource, ModelInstanceIndex\n"
   ]
  },
  {
   "cell_type": "code",
   "execution_count": null,
   "metadata": {},
   "outputs": [],
   "source": [
    "meshcat = StartMeshcat()"
   ]
  },
  {
   "cell_type": "code",
   "execution_count": null,
   "metadata": {},
   "outputs": [],
   "source": [
    "filename = FindResourceOrThrow(\"drake/manipulation/models/ur3e/ur3e_cylinders_collision.urdf\")\n"
   ]
  },
  {
   "cell_type": "code",
   "execution_count": null,
   "metadata": {},
   "outputs": [],
   "source": [
    "meshcat.Delete()\n",
    "meshcat.DeleteAddedControls()\n",
    "builder = DiagramBuilder()\n",
    "\n",
    "# Note: the time_step here is chosen arbitrarily.\n",
    "plant, scene_graph = AddMultibodyPlantSceneGraph(builder, time_step=0.001)\n",
    "\n",
    "# Load the file into the plant/scene_graph.\n",
    "parser = Parser(plant, scene_graph)  \n",
    "parser.AddModelFromFile(filename)\n",
    "\n",
    "plant.WeldFrames(plant.world_frame(), plant.GetFrameByName(\"ur_base_link\"))\n",
    "\n",
    "plant.Finalize()\n",
    "\n",
    "# Add two visualizers, one to publish the \"visual\" geometry, and one to\n",
    "# publish the \"collision\" geometry.\n",
    "visual = MeshcatVisualizer.AddToBuilder(\n",
    "    builder, scene_graph, meshcat, MeshcatVisualizerParams(role=Role.kPerception, prefix=\"visual\")\n",
    ")\n",
    "collision = MeshcatVisualizer.AddToBuilder(\n",
    "    builder, scene_graph, meshcat, MeshcatVisualizerParams(role=Role.kProximity, prefix=\"collision\")\n",
    ")\n",
    "# Disable the collision geometry at the start; it can be enabled by the\n",
    "# checkbox in the meshcat controls.\n",
    "meshcat.SetProperty(\"collision\", \"visible\", False)\n",
    "\n",
    "# Set the timeout to a small number in test mode. Otherwise, JointSliders\n",
    "# will run until \"Stop JointSliders\" button is clicked.\n",
    "default_interactive_timeout = 1.0 if \"TEST_SRCDIR\" in os.environ else None\n",
    "sliders = builder.AddSystem(JointSliders(meshcat, plant))\n",
    "diagram = builder.Build()\n",
    "sliders.Run(diagram, default_interactive_timeout)\n"
   ]
  },
  {
   "cell_type": "code",
   "execution_count": null,
   "metadata": {},
   "outputs": [],
   "source": [
    "meshcat.Delete()\n",
    "meshcat.DeleteAddedControls()\n",
    "builder = DiagramBuilder()\n",
    "plant, scene_graph = AddMultibodyPlantSceneGraph(builder, time_step=1e-4)\n",
    "visualizer = MeshcatVisualizer.AddToBuilder(builder, scene_graph, meshcat)\n",
    "\n",
    "model = Parser(plant).AddModelFromFile(filename)\n",
    "plant.WeldFrames(plant.world_frame(), plant.GetFrameByName(\"ur_base_link\"))\n",
    "plant.Finalize()\n",
    "\n",
    "\n",
    "Kp = np.full(6, 100)\n",
    "Ki = 2 * np.sqrt(Kp)\n",
    "Kd = np.full(6, 20)\n",
    "controller = builder.AddSystem(InverseDynamicsController(plant, Kp, Ki, Kd, False))\n",
    "controller.set_name(\"controller\");\n",
    "builder.Connect(plant.get_state_output_port(model),\n",
    "                controller.get_input_port_estimated_state())\n",
    "builder.Connect(controller.get_output_port_control(),\n",
    "                plant.get_actuation_input_port())\n",
    "\n",
    "\n",
    "diagram = builder.Build()\n",
    "\n",
    "context = diagram.CreateDefaultContext()\n",
    "# plant_context = plant.GetMyMutableContextFromRoot(context)\n",
    "\n",
    "\n",
    "# plant.SetPositions(plant_context, [0, -np.pi/2, 0, -np.pi/2 + np.pi /64, 0, 0])\n",
    "# plant.get_actuation_input_port().FixValue(plant_context, np.zeros(6))\n",
    "\n",
    "plant_context = plant.GetMyMutableContextFromRoot(context)\n",
    "q0 = np.array([0, -np.pi/2, 0, -np.pi/2 + np.pi /64, 0, 0])\n",
    "x0 = np.hstack((q0, 0*q0))\n",
    "plant.SetPositions(plant_context, q0)\n",
    "\n",
    "x0[0] += np.pi / 2\n",
    "controller.GetInputPort('desired_state').FixValue(controller.GetMyMutableContextFromRoot(context), x0)\n",
    "\n",
    "simulator = Simulator(diagram, context)\n",
    "\n",
    "visualizer.StartRecording()\n",
    "simulator.AdvanceTo(10.0)\n",
    "visualizer.StopRecording()\n",
    "visualizer.PublishRecording()"
   ]
  },
  {
   "cell_type": "code",
   "execution_count": null,
   "metadata": {},
   "outputs": [],
   "source": [
    "from airo_drake.visualization import AddMeshcatTriad\n",
    "\n",
    "def visualize_link(name):\n",
    "    eef = plant.GetBodyByName(name, model)\n",
    "    X_Ginitial = plant.EvalBodyPoseInWorld(plant_context, eef)\n",
    "    print(X_Ginitial)\n",
    "\n",
    "    AddMeshcatTriad(meshcat, name, X_PT=X_Ginitial)\n",
    "\n",
    "visualize_link(\"ur_ee_link\")\n",
    "visualize_link(\"ur_tool0\")"
   ]
  },
  {
   "cell_type": "code",
   "execution_count": null,
   "metadata": {},
   "outputs": [],
   "source": [
    "for i in range(plant.num_model_instances()):\n",
    "    model_instance = ModelInstanceIndex(i)\n",
    "    model_instance_name = plant.GetModelInstanceName(model_instance)\n",
    "    print(model_instance_name)"
   ]
  },
  {
   "cell_type": "code",
   "execution_count": null,
   "metadata": {},
   "outputs": [],
   "source": []
  }
 ],
 "metadata": {
  "kernelspec": {
   "display_name": "Python 3.8.10 ('drake_env')",
   "language": "python",
   "name": "python3"
  },
  "language_info": {
   "codemirror_mode": {
    "name": "ipython",
    "version": 3
   },
   "file_extension": ".py",
   "mimetype": "text/x-python",
   "name": "python",
   "nbconvert_exporter": "python",
   "pygments_lexer": "ipython3",
   "version": "3.8.10"
  },
  "orig_nbformat": 4,
  "vscode": {
   "interpreter": {
    "hash": "d4ffc1152b1e2d171c314e7c2a273064a8c437e714c009a5c60c013c0b3c0203"
   }
  }
 },
 "nbformat": 4,
 "nbformat_minor": 2
}
