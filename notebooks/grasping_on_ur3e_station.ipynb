{
 "cells": [
  {
   "cell_type": "markdown",
   "metadata": {},
   "source": [
    "# Grasping Exercises"
   ]
  },
  {
   "cell_type": "code",
   "execution_count": null,
   "metadata": {},
   "outputs": [],
   "source": [
    "%load_ext autoreload\n",
    "%autoreload 2\n",
    "import os\n",
    "from pydrake.geometry import StartMeshcat\n",
    "from airo_drake.stations.ur3e_cart import MakeUR3eCartStation, RunAndPublishSimulation\n",
    "from airo_drake.planners.planners_base import DualArmPlannerBase\n"
   ]
  },
  {
   "cell_type": "code",
   "execution_count": null,
   "metadata": {},
   "outputs": [],
   "source": [
    "meshcat = StartMeshcat()"
   ]
  },
  {
   "cell_type": "markdown",
   "metadata": {},
   "source": [
    "## GraspPlanner"
   ]
  },
  {
   "cell_type": "code",
   "execution_count": null,
   "metadata": {},
   "outputs": [],
   "source": [
    "import numpy as np\n",
    "from pydrake.all import PiecewisePose, RigidTransform, RotationMatrix, PiecewisePolynomial\n",
    "from airo_drake.geometry import top_down_orientation\n",
    "\n",
    "\n",
    "class GraspPlanner(DualArmPlannerBase):\n",
    "    def __init__(self, meshcat):\n",
    "        super().__init__(meshcat)\n",
    "        self.planned = False\n",
    "\n",
    "    def get_openness_trajectory(self, times):\n",
    "        opened = np.array([self.gripper_max_openness])\n",
    "        closed = np.array([0.0])\n",
    "        right_gripper_openness = np.array([self.initial_right_openness_state[0]])\n",
    "        openness_trajectory = PiecewisePolynomial.FirstOrderHold(\n",
    "            [times[\"initial\"], times[\"pregrasp\"]], np.hstack([[right_gripper_openness], [opened]])\n",
    "        )\n",
    "        openness_trajectory.AppendFirstOrderSegment(times[\"grasp\"], opened)\n",
    "        openness_trajectory.AppendFirstOrderSegment(times[\"grasp_close\"], closed)\n",
    "        openness_trajectory.AppendFirstOrderSegment(times[\"lift\"], closed)\n",
    "        return openness_trajectory\n",
    "\n",
    "    def Plan(self, context, state):\n",
    "        if self.planned:\n",
    "            return\n",
    "        global_y_axis = np.array([0, 1, 0])\n",
    "        grasp_orientation = RotationMatrix(top_down_orientation(gripper_open_direction=global_y_axis))\n",
    "        grasp_position = np.array([0, 0, 0.01])\n",
    "        grasp_pose = RigidTransform(grasp_orientation, grasp_position)\n",
    "        pregrasp_pose = RigidTransform(grasp_orientation, grasp_position + np.array([0, 0, 0.05]))\n",
    "        lift_pose = RigidTransform(grasp_orientation, grasp_position + np.array([0, 0, 0.2]))\n",
    "\n",
    "        self.right_tcp_keyposes = {\n",
    "            \"initial\": self.inital_right_tcp,\n",
    "            \"pregrasp\": pregrasp_pose,\n",
    "            \"grasp\": grasp_pose,\n",
    "            \"grasp_close\": grasp_pose,\n",
    "            \"lift\": lift_pose,\n",
    "        }\n",
    "        times = {\"initial\": 0.0, \"pregrasp\": 2.5, \"grasp\": 3.0, \"grasp_close\": 3.5, \"lift\": 6.0}\n",
    "\n",
    "        def MakeLinearTrajectory(keyposes_dict, times_dict):\n",
    "            keyposes = list(keyposes_dict.values())\n",
    "            times = list(times_dict.values())\n",
    "            pose_trajectory = PiecewisePose.MakeLinear(times, keyposes)\n",
    "            return pose_trajectory\n",
    "\n",
    "        self.right_tcp_trajectory = MakeLinearTrajectory(self.right_tcp_keyposes, times)\n",
    "        self.right_openness_trajectory = self.get_openness_trajectory(times)\n",
    "        self.UpdatePlanVisualization()\n",
    "        self.planned = True\n"
   ]
  },
  {
   "cell_type": "markdown",
   "metadata": {},
   "source": [
    "## Simulations"
   ]
  },
  {
   "cell_type": "code",
   "execution_count": null,
   "metadata": {},
   "outputs": [],
   "source": [
    "def SimulateGrasp(additional_directives, planner, meshcat):\n",
    "    meshcat.Delete()\n",
    "    station = MakeUR3eCartStation(additional_directives)\n",
    "    RunAndPublishSimulation(station, planner, meshcat)"
   ]
  },
  {
   "cell_type": "code",
   "execution_count": null,
   "metadata": {},
   "outputs": [],
   "source": [
    "from airo_drake.downloaders.google_scanned_objects import get_google_scanned_object\n",
    "\n",
    "\n",
    "def GetModelDirective(model_name):\n",
    "    model_directory = get_google_scanned_object(model_name)\n",
    "    model_sdf = os.path.join(model_directory, \"model.sdf\")\n",
    "\n",
    "    model_directive = f\"\"\"- add_model:\n",
    "            name: {model_name}\n",
    "            file: file://{model_sdf}\n",
    "    \"\"\"\n",
    "    return model_directive"
   ]
  },
  {
   "cell_type": "markdown",
   "metadata": {},
   "source": [
    "### Scenario 1/5 - Cube "
   ]
  },
  {
   "cell_type": "code",
   "execution_count": null,
   "metadata": {},
   "outputs": [],
   "source": [
    "cube_name = \"Granimals_20_Wooden_ABC_Blocks_Wagon_85VdSftGsLi\"\n",
    "cube_directive = GetModelDirective(cube_name)\n",
    "planner = GraspPlanner(meshcat)\n",
    "SimulateGrasp(cube_directive, planner, meshcat)\n"
   ]
  },
  {
   "cell_type": "markdown",
   "metadata": {},
   "source": [
    "### Scenario 2/5 - Box"
   ]
  },
  {
   "cell_type": "code",
   "execution_count": null,
   "metadata": {},
   "outputs": [],
   "source": [
    "box_name = \"Frozen_Scrabble_Jr\"\n",
    "box_directive = GetModelDirective(box_name)\n",
    "planner = GraspPlanner(meshcat)\n",
    "SimulateGrasp(box_directive, planner, meshcat)"
   ]
  },
  {
   "cell_type": "markdown",
   "metadata": {},
   "source": [
    "### Scenario 3/5 - Mug"
   ]
  },
  {
   "cell_type": "code",
   "execution_count": null,
   "metadata": {},
   "outputs": [],
   "source": [
    "mug_name = \"Threshold_Porcelain_Coffee_Mug_All_Over_Bead_White\"\n",
    "mug_directive = GetModelDirective(mug_name)\n",
    "planner = GraspPlanner(meshcat)\n",
    "SimulateGrasp(mug_directive, planner, meshcat)"
   ]
  },
  {
   "cell_type": "markdown",
   "metadata": {},
   "source": [
    "### Scenario 4/5 - Dinosaur"
   ]
  },
  {
   "cell_type": "code",
   "execution_count": null,
   "metadata": {},
   "outputs": [],
   "source": [
    "dino_name = \"Schleich_Allosaurus\"\n",
    "dino_directive = GetModelDirective(dino_name)\n",
    "planner = GraspPlanner(meshcat)\n",
    "SimulateGrasp(dino_directive, planner, meshcat)"
   ]
  },
  {
   "cell_type": "markdown",
   "metadata": {},
   "source": [
    "### Scenario 5/5 - Screwdriver"
   ]
  },
  {
   "cell_type": "code",
   "execution_count": null,
   "metadata": {},
   "outputs": [],
   "source": [
    "screwdriver_name = \"Craftsman_Grip_Screwdriver_Phillips_Cushion\"\n",
    "screw_directive = GetModelDirective(screwdriver_name)\n",
    "planner = GraspPlanner(meshcat)\n",
    "SimulateGrasp(screw_directive, planner, meshcat)"
   ]
  },
  {
   "cell_type": "markdown",
   "metadata": {},
   "source": [
    "## Bonus"
   ]
  },
  {
   "cell_type": "markdown",
   "metadata": {},
   "source": [
    "### Plate"
   ]
  },
  {
   "cell_type": "code",
   "execution_count": null,
   "metadata": {},
   "outputs": [],
   "source": [
    "plate_name = \"Threshold_Bistro_Ceramic_Dinner_Plate_Ruby_Ring\"\n",
    "plate_directive = GetModelDirective(plate_name)\n",
    "planner = GraspPlanner(meshcat)\n",
    "SimulateGrasp(plate_directive, planner, meshcat)"
   ]
  },
  {
   "cell_type": "markdown",
   "metadata": {},
   "source": [
    "### DVD-box"
   ]
  },
  {
   "cell_type": "code",
   "execution_count": null,
   "metadata": {},
   "outputs": [],
   "source": [
    "dvd_name = \"Super_Mario_3D_World_Wii_U_Game\"\n",
    "dvd_directive = GetModelDirective(dvd_name)\n",
    "planner = GraspPlanner(meshcat)\n",
    "SimulateGrasp(dvd_directive, planner, meshcat)"
   ]
  },
  {
   "cell_type": "code",
   "execution_count": null,
   "metadata": {},
   "outputs": [],
   "source": []
  }
 ],
 "metadata": {
  "kernelspec": {
   "display_name": "Python 3.8.13 ('drake_nightly')",
   "language": "python",
   "name": "python3"
  },
  "language_info": {
   "codemirror_mode": {
    "name": "ipython",
    "version": 3
   },
   "file_extension": ".py",
   "mimetype": "text/x-python",
   "name": "python",
   "nbconvert_exporter": "python",
   "pygments_lexer": "ipython3",
   "version": "3.8.13"
  },
  "orig_nbformat": 4,
  "vscode": {
   "interpreter": {
    "hash": "b93b844ac7c9757e45f058eaddae7f135cd58dfdd5c371d15402a25de772f440"
   }
  }
 },
 "nbformat": 4,
 "nbformat_minor": 2
}
