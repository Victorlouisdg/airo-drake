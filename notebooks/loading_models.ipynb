{
 "cells": [
  {
   "cell_type": "code",
   "execution_count": null,
   "metadata": {},
   "outputs": [],
   "source": [
    "import os\n",
    "from pydrake.all import (\n",
    "    AddMultibodyPlantSceneGraph,\n",
    "    DiagramBuilder,\n",
    "    LoadModelDirectivesFromString,\n",
    "    Parser,\n",
    "    ProcessModelDirectives,\n",
    ")\n",
    "from pydrake.geometry import MeshcatVisualizer, StartMeshcat\n",
    "from pydrake.systems.all import Simulator\n",
    "from airo_drake.stations.station_utils import AddPackagePaths\n",
    "from airo_drake.downloaders.google_scanned_objects import get_google_scanned_object\n"
   ]
  },
  {
   "cell_type": "code",
   "execution_count": null,
   "metadata": {},
   "outputs": [],
   "source": [
    "meshcat = StartMeshcat()"
   ]
  },
  {
   "cell_type": "code",
   "execution_count": null,
   "metadata": {},
   "outputs": [],
   "source": [
    "def GetModelDirective(model_name):\n",
    "    model_directory = get_google_scanned_object(model_name)\n",
    "    model_sdf = os.path.join(model_directory, \"model.sdf\")\n",
    "\n",
    "    model_directive = f\"\"\"- add_model:\n",
    "            name: {model_name}\n",
    "            file: file://{model_sdf}\n",
    "    \"\"\"\n",
    "    return model_directive"
   ]
  },
  {
   "cell_type": "code",
   "execution_count": null,
   "metadata": {},
   "outputs": [],
   "source": [
    "cube_name = \"Granimals_20_Wooden_ABC_Blocks_Wagon_85VdSftGsLi\"\n",
    "cube_directive = GetModelDirective(cube_name)"
   ]
  },
  {
   "cell_type": "code",
   "execution_count": null,
   "metadata": {},
   "outputs": [],
   "source": [
    "builder = DiagramBuilder()\n",
    "plant, scene_graph = AddMultibodyPlantSceneGraph(builder, time_step=0.001)\n",
    "parser = Parser(plant)\n",
    "AddPackagePaths(parser)\n",
    "\n",
    "model_directives = \"directives:\\n\" + cube_directive\n",
    "\n",
    "directives = LoadModelDirectivesFromString(model_directives)\n",
    "ProcessModelDirectives(directives, parser)\n",
    "plant.Finalize()\n",
    "\n",
    "visualizer = MeshcatVisualizer.AddToBuilder(builder, scene_graph.get_query_output_port(), meshcat)\n",
    "diagram = builder.Build()"
   ]
  },
  {
   "cell_type": "code",
   "execution_count": null,
   "metadata": {},
   "outputs": [],
   "source": [
    "simulator = Simulator(diagram)\n",
    "visualizer.StartRecording(False)\n",
    "simulator.AdvanceTo(0.05)\n",
    "visualizer.PublishRecording()"
   ]
  },
  {
   "cell_type": "markdown",
   "metadata": {},
   "source": [
    "### TODO clean up below"
   ]
  },
  {
   "cell_type": "code",
   "execution_count": null,
   "metadata": {},
   "outputs": [],
   "source": [
    "brick_directive = \"\"\"- add_model:\n",
    "        name: brick\n",
    "        file: package://drake/examples/manipulation_station/models/061_foam_brick.sdf\n",
    "\"\"\"\n",
    "planner = GraspPlanner(meshcat)\n",
    "SimulateGrasp(brick_directive, planner, meshcat)"
   ]
  },
  {
   "cell_type": "code",
   "execution_count": null,
   "metadata": {},
   "outputs": [],
   "source": [
    "from pydrake.common import FindResourceOrThrow, temp_directory\n",
    "import os\n",
    "temp_dir = temp_directory()\n",
    "\n",
    "# Create a simple cylinder model.\n",
    "cylinder_sdf_file = os.path.join(temp_dir, \"cylinder.sdf\")\n",
    "cylinder_sdf = \"\"\"<?xml version=\"1.0\"?>\n",
    "<sdf version=\"1.7\">\n",
    "  <model name=\"cylinder\">\n",
    "    <pose>0 0 0.15 0 0 0</pose>\n",
    "    <link name=\"cylinder_link\">\n",
    "      <inertial>\n",
    "        <mass>0.5</mass>\n",
    "        <inertia>\n",
    "          <ixx>0.005833</ixx>\n",
    "          <ixy>0.0</ixy>\n",
    "          <ixz>0.0</ixz>\n",
    "          <iyy>0.005833</iyy>\n",
    "          <iyz>0.0</iyz>\n",
    "          <izz>0.005</izz>\n",
    "        </inertia>\n",
    "      </inertial>\n",
    "      <collision name=\"collision\">\n",
    "        <geometry>\n",
    "          <cylinder>\n",
    "            <radius>0.025</radius>\n",
    "            <length>0.1</length>\n",
    "          </cylinder>\n",
    "        </geometry>\n",
    "      </collision>\n",
    "      <visual name=\"visual\">\n",
    "        <geometry>\n",
    "          <cylinder>\n",
    "            <radius>0.025</radius>\n",
    "            <length>0.1</length>\n",
    "          </cylinder>\n",
    "        </geometry>\n",
    "        <material>\n",
    "          <diffuse>1.0 1.0 1.0 1.0</diffuse>\n",
    "        </material>\n",
    "      </visual>\n",
    "    </link>\n",
    "  </model>\n",
    "</sdf>\n",
    "\n",
    "\"\"\"\n",
    "\n",
    "with open(cylinder_sdf_file, \"w\") as f:\n",
    "    f.write(cylinder_sdf)\n",
    "\n",
    "cylinder_directive = f\"\"\"- add_model:\n",
    "        name: cylinder\n",
    "        file: file://{cylinder_sdf_file}\n",
    "\"\"\"\n",
    "\n",
    "planner = GraspPlanner(meshcat)\n",
    "SimulateGrasp(cylinder_directive, planner, meshcat)"
   ]
  }
 ],
 "metadata": {
  "kernelspec": {
   "display_name": "Python 3.8.13 ('drake')",
   "language": "python",
   "name": "python3"
  },
  "language_info": {
   "codemirror_mode": {
    "name": "ipython",
    "version": 3
   },
   "file_extension": ".py",
   "mimetype": "text/x-python",
   "name": "python",
   "nbconvert_exporter": "python",
   "pygments_lexer": "ipython3",
   "version": "3.8.13"
  },
  "orig_nbformat": 4,
  "vscode": {
   "interpreter": {
    "hash": "ed87a3cbfe5cb465f54b6f144c50b4287466cc2dd6f0f2c61ca7ada30816f613"
   }
  }
 },
 "nbformat": 4,
 "nbformat_minor": 2
}
