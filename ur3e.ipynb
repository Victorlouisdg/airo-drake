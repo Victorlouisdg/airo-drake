{
 "cells": [
  {
   "cell_type": "code",
   "execution_count": null,
   "metadata": {},
   "outputs": [],
   "source": [
    "# Import some basic libraries and functions for this tutorial.\n",
    "import numpy as np\n",
    "import os\n",
    "\n",
    "from pydrake.common import FindResourceOrThrow, temp_directory\n",
    "from pydrake.geometry import (\n",
    "    MeshcatVisualizer,\n",
    "    MeshcatVisualizerParams,\n",
    "    Role,\n",
    "    StartMeshcat,\n",
    ")\n",
    "from pydrake.math import RigidTransform, RollPitchYaw\n",
    "from pydrake.multibody.meshcat import JointSliders\n",
    "from pydrake.multibody.parsing import Parser\n",
    "from pydrake.multibody.plant import AddMultibodyPlantSceneGraph\n",
    "from pydrake.systems.analysis import Simulator\n",
    "from pydrake.systems.framework import DiagramBuilder"
   ]
  },
  {
   "cell_type": "code",
   "execution_count": null,
   "metadata": {},
   "outputs": [],
   "source": [
    "meshcat = StartMeshcat()"
   ]
  },
  {
   "cell_type": "code",
   "execution_count": null,
   "metadata": {},
   "outputs": [],
   "source": [
    "filename = FindResourceOrThrow(\n",
    "    \"drake/manipulation/models/\"\n",
    "    \"ur3e/ur3e_cylinders_collision.urdf\")"
   ]
  },
  {
   "cell_type": "code",
   "execution_count": null,
   "metadata": {},
   "outputs": [],
   "source": [
    "meshcat.Delete()\n",
    "meshcat.DeleteAddedControls()\n",
    "builder = DiagramBuilder()\n",
    "\n",
    "# Note: the time_step here is chosen arbitrarily.\n",
    "plant, scene_graph = AddMultibodyPlantSceneGraph(builder, time_step=0.001)\n",
    "\n",
    "# Load the file into the plant/scene_graph.\n",
    "parser = Parser(plant)\n",
    "parser.AddModelFromFile(filename)\n",
    "plant.Finalize()\n",
    "\n",
    "# Add two visualizers, one to publish the \"visual\" geometry, and one to\n",
    "# publish the \"collision\" geometry.\n",
    "visual = MeshcatVisualizer.AddToBuilder(builder, scene_graph, meshcat,\n",
    "    MeshcatVisualizerParams(role=Role.kPerception, prefix=\"visual\"))\n",
    "collision = MeshcatVisualizer.AddToBuilder(\n",
    "    builder, scene_graph, meshcat,\n",
    "    MeshcatVisualizerParams(role=Role.kProximity, prefix=\"collision\"))\n",
    "# Disable the collision geometry at the start; it can be enabled by the\n",
    "# checkbox in the meshcat controls.\n",
    "meshcat.SetProperty(\"collision\", \"visible\", False)\n",
    "\n",
    "# Set the timeout to a small number in test mode. Otherwise, JointSliders\n",
    "# will run until \"Stop JointSliders\" button is clicked.\n",
    "default_interactive_timeout = 1.0 if \"TEST_SRCDIR\" in os.environ else None\n",
    "sliders = builder.AddSystem(JointSliders(meshcat, plant))\n",
    "diagram = builder.Build()\n",
    "sliders.Run(diagram, default_interactive_timeout)"
   ]
  }
 ],
 "metadata": {
  "kernelspec": {
   "display_name": "Python 3.8.10 ('drake_env')",
   "language": "python",
   "name": "python3"
  },
  "language_info": {
   "codemirror_mode": {
    "name": "ipython",
    "version": 3
   },
   "file_extension": ".py",
   "mimetype": "text/x-python",
   "name": "python",
   "nbconvert_exporter": "python",
   "pygments_lexer": "ipython3",
   "version": "3.8.10"
  },
  "orig_nbformat": 4,
  "vscode": {
   "interpreter": {
    "hash": "d4ffc1152b1e2d171c314e7c2a273064a8c437e714c009a5c60c013c0b3c0203"
   }
  }
 },
 "nbformat": 4,
 "nbformat_minor": 2
}
