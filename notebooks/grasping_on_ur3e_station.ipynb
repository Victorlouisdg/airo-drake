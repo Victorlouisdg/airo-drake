{
 "cells": [
  {
   "cell_type": "code",
   "execution_count": null,
   "metadata": {},
   "outputs": [],
   "source": [
    "%load_ext autoreload\n",
    "%autoreload 2\n",
    "from airo_drake.stations.ur3e_cart import MakeUR3eCartStation, RunAndPublishSimulation\n",
    "from airo_drake.planners.planners_base import DualArmPlannerBase\n",
    "\n",
    "from pydrake.geometry import StartMeshcat"
   ]
  },
  {
   "cell_type": "code",
   "execution_count": null,
   "metadata": {},
   "outputs": [],
   "source": [
    "meshcat = StartMeshcat()"
   ]
  },
  {
   "cell_type": "code",
   "execution_count": null,
   "metadata": {},
   "outputs": [],
   "source": [
    "additional_directives = \"\"\"- add_model:\n",
    "        name: brick\n",
    "        file: package://drake/examples/manipulation_station/models/061_foam_brick.sdf\n",
    "\"\"\"\n",
    "station = MakeUR3eCartStation(additional_directives)\n",
    "plant = station.GetSubsystemByName(\"plant\")"
   ]
  },
  {
   "cell_type": "code",
   "execution_count": null,
   "metadata": {},
   "outputs": [],
   "source": [
    "from pydrake.all import PiecewisePose, RigidTransform, RotationMatrix\n",
    "from airo_drake.geometry import top_down_orientation\n",
    "import numpy as np\n",
    "\n",
    "class GraspPlanner(DualArmPlannerBase):\n",
    "    def __init__(self, plant, meshcat):\n",
    "        super().__init__(plant, meshcat)   \n",
    "        self.planned = False     \n",
    "\n",
    "    def Plan(self, context, state):\n",
    "        if self.planned:\n",
    "            return\n",
    "        grasp_pose = self.inital_right_tcp\n",
    "        pregrasp_pose = self.inital_right_tcp\n",
    "\n",
    "        global_y_axis = np.array([0, 1, 0])\n",
    "        grasp_orientation = RotationMatrix(top_down_orientation(gripper_open_direction=global_y_axis))\n",
    "        grasp_position= np.array([0, 0, 0.1])\n",
    "        grasp_pose = RigidTransform(grasp_orientation, grasp_position)\n",
    "\n",
    "        self.right_tcp_keyposes = {\"initial\": self.inital_right_tcp, \"pregrasp\": pregrasp_pose, \"grasp\": grasp_pose}\n",
    "        times = {\"initial\": 0.0, \"pregrasp\": 2.0, \"grasp\": 2.5}\n",
    "\n",
    "        def MakeLinearTrajectory(keyposes_dict, times_dict):\n",
    "            keyposes = list(keyposes_dict.values())\n",
    "            times = list(times_dict.values())\n",
    "            pose_trajectory = PiecewisePose.MakeLinear(times, keyposes)\n",
    "            return pose_trajectory\n",
    "\n",
    "        self.right_tcp_trajectory = MakeLinearTrajectory(self.right_tcp_keyposes, times)\n",
    "        self.UpdatePlanVisualization()\n",
    "        self.planned = True\n",
    "\n",
    "planner = GraspPlanner(plant, meshcat)"
   ]
  },
  {
   "cell_type": "code",
   "execution_count": null,
   "metadata": {},
   "outputs": [],
   "source": [
    "RunAndPublishSimulation(station, planner, meshcat)"
   ]
  },
  {
   "cell_type": "code",
   "execution_count": null,
   "metadata": {},
   "outputs": [],
   "source": []
  }
 ],
 "metadata": {
  "kernelspec": {
   "display_name": "Python 3.8.13 ('drake_nightly')",
   "language": "python",
   "name": "python3"
  },
  "language_info": {
   "codemirror_mode": {
    "name": "ipython",
    "version": 3
   },
   "file_extension": ".py",
   "mimetype": "text/x-python",
   "name": "python",
   "nbconvert_exporter": "python",
   "pygments_lexer": "ipython3",
   "version": "3.8.13"
  },
  "orig_nbformat": 4,
  "vscode": {
   "interpreter": {
    "hash": "b93b844ac7c9757e45f058eaddae7f135cd58dfdd5c371d15402a25de772f440"
   }
  }
 },
 "nbformat": 4,
 "nbformat_minor": 2
}
