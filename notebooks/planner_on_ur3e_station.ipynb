{
 "cells": [
  {
   "cell_type": "code",
   "execution_count": null,
   "metadata": {},
   "outputs": [],
   "source": [
    "%load_ext autoreload\n",
    "%autoreload 2\n",
    "from airo_drake.stations.ur3e_cart import MakeUR3eCartStation\n",
    "from airo_drake.planners.towel_fold_planner import TowelFoldPlanner\n",
    "from pydrake.geometry import StartMeshcat, MeshcatVisualizer\n",
    "from pydrake.systems.framework import DiagramBuilder\n",
    "from pydrake.systems.all import Simulator"
   ]
  },
  {
   "cell_type": "code",
   "execution_count": null,
   "metadata": {},
   "outputs": [],
   "source": [
    "meshcat = StartMeshcat()"
   ]
  },
  {
   "cell_type": "code",
   "execution_count": null,
   "metadata": {},
   "outputs": [],
   "source": [
    "from airo_drake.planners.planners_base import DualArmPlannerBase\n",
    "\n",
    "\n",
    "station = MakeUR3eCartStation()\n",
    "plant = station.GetSubsystemByName(\"plant\")\n",
    "planner = TowelFoldPlanner(plant, meshcat)"
   ]
  },
  {
   "cell_type": "code",
   "execution_count": null,
   "metadata": {},
   "outputs": [],
   "source": [
    "builder = DiagramBuilder()\n",
    "builder.AddSystem(station)\n",
    "builder.AddSystem(planner)\n",
    "\n",
    "# Connect state estimation to planner.\n",
    "builder.Connect(station.GetOutputPort(\"ur3e_left_tcp\"), planner.GetInputPort(\"left_tcp\"))\n",
    "builder.Connect(station.GetOutputPort(\"ur3e_right_tcp\"), planner.GetInputPort(\"right_tcp\"))\n",
    "builder.Connect(station.GetOutputPort(\"wsg_left_openness_state\"), planner.GetInputPort(\"left_openness_state\"))\n",
    "builder.Connect(station.GetOutputPort(\"wsg_right_openness_state\"), planner.GetInputPort(\"right_openness_state\"))\n",
    "\n",
    "# Connect planner output to station.\n",
    "builder.Connect(planner.GetOutputPort(\"left_tcp_desired\"), station.GetInputPort(\"ur3e_left_tcp_target\"))\n",
    "builder.Connect(planner.GetOutputPort(\"right_tcp_desired\"), station.GetInputPort(\"ur3e_right_tcp_target\"))\n",
    "builder.Connect(planner.GetOutputPort(\"left_openness_desired\"), station.GetInputPort(\"wsg_left_openness_target\"))\n",
    "builder.Connect(planner.GetOutputPort(\"right_openness_desired\"), station.GetInputPort(\"wsg_right_openness_target\"))\n",
    "\n",
    "visualizer = MeshcatVisualizer.AddToBuilder(builder, station.GetOutputPort(\"query_object\"), meshcat)\n",
    "diagram = builder.Build()"
   ]
  },
  {
   "cell_type": "code",
   "execution_count": null,
   "metadata": {},
   "outputs": [],
   "source": [
    "simulator = Simulator(diagram)\n",
    "visualizer.StartRecording(False)\n",
    "simulator.AdvanceTo(6.0)\n",
    "visualizer.PublishRecording()"
   ]
  },
  {
   "cell_type": "code",
   "execution_count": null,
   "metadata": {},
   "outputs": [],
   "source": []
  }
 ],
 "metadata": {
  "kernelspec": {
   "display_name": "Python 3.8.13 ('drake')",
   "language": "python",
   "name": "python3"
  },
  "language_info": {
   "codemirror_mode": {
    "name": "ipython",
    "version": 3
   },
   "file_extension": ".py",
   "mimetype": "text/x-python",
   "name": "python",
   "nbconvert_exporter": "python",
   "pygments_lexer": "ipython3",
   "version": "3.8.13"
  },
  "orig_nbformat": 4,
  "vscode": {
   "interpreter": {
    "hash": "ed87a3cbfe5cb465f54b6f144c50b4287466cc2dd6f0f2c61ca7ada30816f613"
   }
  }
 },
 "nbformat": 4,
 "nbformat_minor": 2
}
