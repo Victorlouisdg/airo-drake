{
 "cells": [
  {
   "cell_type": "code",
   "execution_count": null,
   "metadata": {},
   "outputs": [],
   "source": [
    "from airo_drake.ur3e_cart import MakeUR3eCartStation\n",
    "from airo_drake.planners import Planner\n",
    "from pydrake.geometry import StartMeshcat, MeshcatVisualizer\n",
    "from pydrake.systems.framework import DiagramBuilder\n",
    "from pydrake.systems.all import Simulator\n",
    "import time\n",
    "import pydot\n",
    "from IPython.display import HTML, SVG, display"
   ]
  },
  {
   "cell_type": "code",
   "execution_count": null,
   "metadata": {},
   "outputs": [],
   "source": [
    "meshcat = StartMeshcat()"
   ]
  },
  {
   "cell_type": "code",
   "execution_count": null,
   "metadata": {},
   "outputs": [],
   "source": [
    "station = MakeUR3eCartStation()\n",
    "plant = station.GetSubsystemByName(\"plant\")\n",
    "planner = Planner(plant)\n",
    "\n",
    "builder = DiagramBuilder()\n",
    "builder.AddSystem(station)\n",
    "builder.AddSystem(planner)\n",
    "\n",
    "builder.Connect(planner.GetOutputPort(\"left_X_WE\"), station.GetInputPort(\"ur3e_left_X_WE\"))\n",
    "builder.Connect(planner.GetOutputPort(\"right_X_WE\"), station.GetInputPort(\"ur3e_right_X_WE\"))\n",
    "\n",
    "visualizer = MeshcatVisualizer.AddToBuilder(builder, station.GetOutputPort(\"query_object\"), meshcat)\n",
    "\n",
    "diagram = builder.Build()\n"
   ]
  },
  {
   "cell_type": "code",
   "execution_count": null,
   "metadata": {},
   "outputs": [],
   "source": [
    "\n",
    "SVG(pydot.graph_from_dot_data(diagram.GetGraphvizString())[0].create_svg())"
   ]
  },
  {
   "cell_type": "code",
   "execution_count": null,
   "metadata": {},
   "outputs": [],
   "source": [
    "simulator = Simulator(diagram)\n",
    "\n",
    "visualizer.StartRecording(False)\n",
    "simulator.AdvanceTo(1.0)\n",
    "visualizer.PublishRecording()"
   ]
  },
  {
   "cell_type": "code",
   "execution_count": null,
   "metadata": {},
   "outputs": [],
   "source": []
  }
 ],
 "metadata": {
  "kernelspec": {
   "display_name": "Python 3.8.10 ('drake_env')",
   "language": "python",
   "name": "python3"
  },
  "language_info": {
   "codemirror_mode": {
    "name": "ipython",
    "version": 3
   },
   "file_extension": ".py",
   "mimetype": "text/x-python",
   "name": "python",
   "nbconvert_exporter": "python",
   "pygments_lexer": "ipython3",
   "version": "3.8.10"
  },
  "orig_nbformat": 4,
  "vscode": {
   "interpreter": {
    "hash": "d4ffc1152b1e2d171c314e7c2a273064a8c437e714c009a5c60c013c0b3c0203"
   }
  }
 },
 "nbformat": 4,
 "nbformat_minor": 2
}
