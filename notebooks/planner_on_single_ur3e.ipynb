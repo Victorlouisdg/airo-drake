{
 "cells": [
  {
   "cell_type": "code",
   "execution_count": null,
   "metadata": {},
   "outputs": [],
   "source": [
    "%load_ext autoreload\n",
    "%autoreload 2\n",
    "from airo_drake.stations.single_ur3e import MakeUR3eCartStation, RunAndPublishSimulation\n",
    "from airo_drake.stations.single_ur3e_real import UR3eStationHardwareInterface, RunAndPublishOnRealHardware\n",
    "\n",
    "from pydrake.geometry import StartMeshcat"
   ]
  },
  {
   "cell_type": "code",
   "execution_count": null,
   "metadata": {},
   "outputs": [],
   "source": [
    "meshcat = StartMeshcat()"
   ]
  },
  {
   "cell_type": "code",
   "execution_count": null,
   "metadata": {},
   "outputs": [],
   "source": [
    "# from pydrake.all import DependencyTicket\n",
    "# DependencyTicket().time_ticket()"
   ]
  },
  {
   "cell_type": "code",
   "execution_count": null,
   "metadata": {},
   "outputs": [],
   "source": [
    "# station = MakeUR3eCartStation()\n",
    "\n",
    "station = UR3eStationHardwareInterface()\n",
    "# plant = station.GetSubsystemByName(\"plant\")"
   ]
  },
  {
   "cell_type": "code",
   "execution_count": null,
   "metadata": {},
   "outputs": [],
   "source": [
    "import numpy as np\n",
    "from pydrake.all import AngleAxis, PiecewisePose, Rgba, RigidTransform, RotationMatrix\n",
    "\n",
    "from airo_drake.cloth_manipulation.towel import fake_towel_keypoints, order_keypoints\n",
    "from airo_drake.geometry import top_down_orientation\n",
    "from airo_drake.visualization import VisualizePath\n",
    "from airo_drake.planners.planners_base import PlannerBase\n",
    "\n",
    "\n",
    "class DemoPlanner(PlannerBase):\n",
    "    def __init__(self, plant, meshcat):\n",
    "        super().__init__(plant, meshcat)\n",
    "        self.towel_keypoints = fake_towel_keypoints(height=0.0)  + np.array([0.45, 0, 0]).reshape((3,1))\n",
    "        VisualizePath(meshcat, \"towel_keypoints\", self.towel_keypoints, closed=True, color=Rgba(0, 1, 1), thickness=10)\n",
    "\n",
    "    def get_fold_keyposes(self, keypoints):\n",
    "        left_grasp_pose = None\n",
    "        ordered_keypoints = order_keypoints(keypoints)\n",
    "\n",
    "        top_right_corner, top_left_corner, bottom_left_corner, bottom_right_corner = ordered_keypoints.T\n",
    "\n",
    "        right_edge = top_right_corner - bottom_right_corner\n",
    "\n",
    "        topdown = RotationMatrix(top_down_orientation(right_edge))\n",
    "        tilt_angle = 15\n",
    "        gripper_y = topdown.col(1)\n",
    "        local_y_rotation = RotationMatrix(AngleAxis(np.deg2rad(tilt_angle), gripper_y))\n",
    "        grasp_orientation = local_y_rotation @ topdown\n",
    "\n",
    "        height_offset = np.array([0, 0, 0.01])\n",
    "        grasp_position_left = bottom_left_corner + height_offset\n",
    "        left_grasp_pose = RigidTransform(grasp_orientation, grasp_position_left)\n",
    "\n",
    "        edge_direction = right_edge / np.linalg.norm(right_edge)\n",
    "        pregrasp_approach_distance = 0.05\n",
    "        approach_vector = -pregrasp_approach_distance * edge_direction\n",
    "        approach_vector[2] += 0.05\n",
    "\n",
    "        left_pregrasp_pose = RigidTransform(left_grasp_pose)\n",
    "        left_pregrasp_pose.set_translation(left_pregrasp_pose.translation() + approach_vector)\n",
    "\n",
    "        local_y_rotation = RotationMatrix(AngleAxis(np.deg2rad(-tilt_angle), gripper_y))\n",
    "        release_orientation = local_y_rotation @ topdown\n",
    "        left_release_position = top_left_corner + height_offset\n",
    "        left_release_pose = RigidTransform(release_orientation, left_release_position)\n",
    "\n",
    "        fold_height_offset = np.array([0, 0, np.linalg.norm(right_edge) / 2.0])\n",
    "        left_middle_position = (grasp_position_left + left_release_position) / 2 + fold_height_offset\n",
    "\n",
    "        left_middle_pose = RigidTransform(topdown, left_middle_position)\n",
    "\n",
    "        left_retreat_position = left_release_position + np.array([0, 0, 0.1])\n",
    "        left_retreat_pose = RigidTransform(topdown, left_retreat_position)\n",
    "\n",
    "        keyposes = {\n",
    "            \"pregrasp\": left_pregrasp_pose,\n",
    "            \"grasp\": left_grasp_pose,\n",
    "            \"middle\": left_middle_pose,\n",
    "            \"release\": left_release_pose,\n",
    "            \"retreat\": left_retreat_pose,\n",
    "        }\n",
    "\n",
    "        return keyposes\n",
    "\n",
    "\n",
    "\n",
    "    def Plan(self, context, state):\n",
    "        keyposes = self.get_fold_keyposes(self.towel_keypoints)\n",
    "        self.tcp_keyposes = {\"initial\": self.inital_tcp, **keyposes}\n",
    "        times = {\"initial\": 0.0, \"pregrasp\": 2.0, \"grasp\": 2.5, \"middle\": 3.25, \"release\": 4.0, \"retreat\": 5.0}\n",
    "\n",
    "        def FoldingTrajectory(keyposes_dict, times_dict):\n",
    "            keyposes = list(keyposes_dict.values())\n",
    "            times = list(times_dict.values())\n",
    "            pose_trajectory = PiecewisePose.MakeCubicLinearWithEndLinearVelocity(times, keyposes)\n",
    "            return pose_trajectory\n",
    "\n",
    "\n",
    "        self.tcp_trajectory = FoldingTrajectory(self.tcp_keyposes, times)\n",
    "\n",
    "        self.UpdatePlanVisualization()\n",
    "\n",
    "planner = DemoPlanner(None, meshcat) # Change this to your planner to test."
   ]
  },
  {
   "cell_type": "code",
   "execution_count": null,
   "metadata": {},
   "outputs": [],
   "source": [
    "# RunAndPublishSimulation(station, planner, meshcat)\n",
    "RunAndPublishOnRealHardware(station, planner, meshcat)"
   ]
  },
  {
   "cell_type": "code",
   "execution_count": null,
   "metadata": {},
   "outputs": [],
   "source": []
  }
 ],
 "metadata": {
  "kernelspec": {
   "display_name": "Python 3.8.13 ('drake_nightly')",
   "language": "python",
   "name": "python3"
  },
  "language_info": {
   "codemirror_mode": {
    "name": "ipython",
    "version": 3
   },
   "file_extension": ".py",
   "mimetype": "text/x-python",
   "name": "python",
   "nbconvert_exporter": "python",
   "pygments_lexer": "ipython3",
   "version": "3.8.13"
  },
  "orig_nbformat": 4,
  "vscode": {
   "interpreter": {
    "hash": "b93b844ac7c9757e45f058eaddae7f135cd58dfdd5c371d15402a25de772f440"
   }
  }
 },
 "nbformat": 4,
 "nbformat_minor": 2
}
