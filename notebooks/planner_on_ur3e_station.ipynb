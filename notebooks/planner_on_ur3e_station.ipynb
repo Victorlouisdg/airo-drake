{
 "cells": [
  {
   "cell_type": "code",
   "execution_count": null,
   "metadata": {},
   "outputs": [],
   "source": [
    "from airo_drake.ur3e_cart import MakeUR3eCartStation\n",
    "from airo_drake.planners import TowelFoldPlanner\n",
    "from pydrake.geometry import StartMeshcat, MeshcatVisualizer\n",
    "from pydrake.systems.framework import DiagramBuilder\n",
    "from pydrake.systems.all import Simulator"
   ]
  },
  {
   "cell_type": "code",
   "execution_count": null,
   "metadata": {},
   "outputs": [],
   "source": [
    "meshcat = StartMeshcat()"
   ]
  },
  {
   "cell_type": "code",
   "execution_count": null,
   "metadata": {},
   "outputs": [],
   "source": [
    "station = MakeUR3eCartStation()\n",
    "plant = station.GetSubsystemByName(\"plant\")\n",
    "planner = TowelFoldPlanner(plant, meshcat)\n",
    "\n",
    "builder = DiagramBuilder()\n",
    "builder.AddSystem(station)\n",
    "builder.AddSystem(planner)\n",
    "\n",
    "# Connect state estimation to planner.\n",
    "builder.Connect(station.GetOutputPort(\"ur3e_left_X_WE_estimated\"), planner.GetInputPort(\"left_X_WE_current\"))\n",
    "builder.Connect(station.GetOutputPort(\"ur3e_right_X_WE_estimated\"), planner.GetInputPort(\"right_X_WE_current\"))\n",
    "builder.Connect(station.GetOutputPort(\"wsg_left_state_measured\"), planner.GetInputPort(\"left_gripper_state\"))\n",
    "builder.Connect(station.GetOutputPort(\"wsg_right_state_measured\"), planner.GetInputPort(\"right_gripper_state\"))\n",
    "\n",
    "# Connect planner output to station.\n",
    "builder.Connect(planner.GetOutputPort(\"left_X_WE_desired\"), station.GetInputPort(\"ur3e_left_X_WT\"))\n",
    "builder.Connect(planner.GetOutputPort(\"right_X_WE_desired\"), station.GetInputPort(\"ur3e_right_X_WT\"))\n",
    "builder.Connect(\n",
    "    planner.GetOutputPort(\"left_gripper_position_desired\"), station.GetInputPort(\"wsg_left_position\")\n",
    ")\n",
    "builder.Connect(\n",
    "    planner.GetOutputPort(\"right_gripper_position_desired\"), station.GetInputPort(\"wsg_right_position\")\n",
    ")\n",
    "\n",
    "visualizer = MeshcatVisualizer.AddToBuilder(builder, station.GetOutputPort(\"query_object\"), meshcat)\n",
    "\n",
    "diagram = builder.Build()\n",
    "\n",
    "root_context = diagram.CreateDefaultContext()\n",
    "planner.root_context = root_context"
   ]
  },
  {
   "cell_type": "code",
   "execution_count": null,
   "metadata": {},
   "outputs": [],
   "source": [
    "simulator = Simulator(diagram)\n",
    "\n",
    "visualizer.StartRecording(False)\n",
    "simulator.AdvanceTo(6.0)\n",
    "visualizer.PublishRecording()"
   ]
  },
  {
   "cell_type": "code",
   "execution_count": null,
   "metadata": {},
   "outputs": [],
   "source": []
  }
 ],
 "metadata": {
  "kernelspec": {
   "display_name": "Python 3.8.13 ('drake')",
   "language": "python",
   "name": "python3"
  },
  "language_info": {
   "codemirror_mode": {
    "name": "ipython",
    "version": 3
   },
   "file_extension": ".py",
   "mimetype": "text/x-python",
   "name": "python",
   "nbconvert_exporter": "python",
   "pygments_lexer": "ipython3",
   "version": "3.8.13"
  },
  "orig_nbformat": 4,
  "vscode": {
   "interpreter": {
    "hash": "ed87a3cbfe5cb465f54b6f144c50b4287466cc2dd6f0f2c61ca7ada30816f613"
   }
  }
 },
 "nbformat": 4,
 "nbformat_minor": 2
}
